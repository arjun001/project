{
 "metadata": {
  "name": "project.ipynb"
 },
 "nbformat": 3,
 "nbformat_minor": 0,
 "worksheets": [
  {
   "cells": [
    {
     "cell_type": "code",
     "collapsed": false,
     "input": [
      "import cv"
     ],
     "language": "python",
     "metadata": {},
     "outputs": [],
     "prompt_number": 1
    },
    {
     "cell_type": "code",
     "collapsed": false,
     "input": [
      "def motion(frame):\n",
      "    \n",
      "    s = cv.GetSize(frame) # size of image or frame in case of video\n",
      "    \n",
      "    # alloting memory \n",
      "    blob = cv.CreateImage(s, 8, 1)\n",
      "    red = cv.CreateImage(s, 8, 1)\n",
      "    hsv = cv.CreateImage(s, 8, 3)\n",
      "    saturation = cv.CreateImage(s, 8, 1)\n",
      "    \n",
      "    # splitting frame to HSV\n",
      "    cv.CVTColor(frame, hsv, cv.CV.BGR2HSV)\n",
      "    cv.Split(hsv, None, saturation, None, None)\n",
      "    \n",
      "    # Split image to rgb\n",
      "    cv.Split(frame, None, None, red, None)\n",
      "    \n",
      "    # Find the moving dot, with high saturation\n",
      "    cv.Threshold(red, red, 128, 255, cv.CV_THRESH_BINARY)\n",
      "    cv.Threshold(saturation, saturation, 128, 255, cv.CV_THRESH_BINARY)\n",
      "    \n",
      "    cv.Mul(red, saturation, blob)\n",
      "    \n",
      "    # filtering some noise\n",
      "    cv.Erode(blob, blob, iterations=5)\n",
      "    cv.Dilate(blob, blob, iterations=5)\n",
      "    \n",
      "    store = cv.CreateMemStorage(0)\n",
      "    obj = cv.FindContours(car, store, cv.CV_RETR_CCOMP, cv.CV_CHAIN_APPROX_SIMPLE)\n",
      "    cv.ShowImage('A', blob)\n",
      "    \n",
      "    if not obj:\n",
      "        return(0,0,0,0)\n",
      "    else:\n",
      "        return cv.BoundingRect(obj)"
     ],
     "language": "python",
     "metadata": {},
     "outputs": [],
     "prompt_number": 3
    },
    {
     "cell_type": "code",
     "collapsed": false,
     "input": [
      "pixel = []\n",
      "capture = cv.CaptureFromCAM(0)"
     ],
     "language": "python",
     "metadata": {},
     "outputs": [],
     "prompt_number": 4
    },
    {
     "cell_type": "code",
     "collapsed": false,
     "input": [
      "if not capture:\n",
      "    print \"Error opening capture device\"\n",
      "    sys.exit(1)"
     ],
     "language": "python",
     "metadata": {},
     "outputs": [],
     "prompt_number": 5
    },
    {
     "cell_type": "code",
     "collapsed": false,
     "input": [
      "cv.SetCaptureProperty(capture, cv.CV_CAP_PROP_FRAME_WIDTH, 640)\n",
      "cv.SetCaptureProperty(capture, cv.CV_CAP_PROP_FRAME_HEIGHT, 480)"
     ],
     "language": "python",
     "metadata": {},
     "outputs": [
      {
       "metadata": {},
       "output_type": "pyout",
       "prompt_number": 6,
       "text": [
        "0"
       ]
      }
     ],
     "prompt_number": 6
    },
    {
     "cell_type": "code",
     "collapsed": false,
     "input": [
      "while 1:\n",
      "        \n",
      "    ori_frame = cv.QueryFrame(capture)\n",
      "    blob_geo = motion(ori_frame)\n",
      "    print blob_geo\n",
      "    mid = (blob_geo[0] + (blob_geo[2]/2) , blob_geo[1] + (blob_geo[3]/2))\n",
      "    if pixel == []:\n",
      "        pixel.append(mid)\n",
      "    else:\n",
      "        if abs(pixel[-1][0] - mid[0]) > 5 and abs(pixel[-1][1] mid[1]) > 10:\n",
      "            pixel.append(mid)\n",
      "    \n",
      "    cv.Rectangle(ori_frame,(blob_geo[0], blob_geo[1]), blob_geo[0] + blob_geo[2], blob_geo[1] + blob_geo[3]),(255, 0, 0), 1, 8, 0)\n",
      "    \n",
      "    for pix in pixel:\n",
      "        cv.Circle(ori_frame, pixel,1,(0,0,255),-1,8,0)"
     ],
     "language": "python",
     "metadata": {},
     "outputs": [
      {
       "ename": "SyntaxError",
       "evalue": "invalid syntax (<ipython-input-7-d873d9f4c627>, line 10)",
       "output_type": "pyerr",
       "traceback": [
        "\u001b[1;36m  File \u001b[1;32m\"<ipython-input-7-d873d9f4c627>\"\u001b[1;36m, line \u001b[1;32m10\u001b[0m\n\u001b[1;33m    if abs(pixel[-1][0] - mid[0]) > 5 and abs(pixel[-1][1] mid[1]) > 10:\u001b[0m\n\u001b[1;37m                                                             ^\u001b[0m\n\u001b[1;31mSyntaxError\u001b[0m\u001b[1;31m:\u001b[0m invalid syntax\n"
       ]
      }
     ],
     "prompt_number": 7
    },
    {
     "cell_type": "code",
     "collapsed": false,
     "input": [
      "cv.ShowImage('Analyzed Frame', ori_frame)"
     ],
     "language": "python",
     "metadata": {},
     "outputs": [
      {
       "ename": "NameError",
       "evalue": "name 'ori_frame' is not defined",
       "output_type": "pyerr",
       "traceback": [
        "\u001b[1;31m---------------------------------------------------------------------------\u001b[0m\n\u001b[1;31mNameError\u001b[0m                                 Traceback (most recent call last)",
        "\u001b[1;32m<ipython-input-8-b58c0cdf7308>\u001b[0m in \u001b[0;36m<module>\u001b[1;34m()\u001b[0m\n\u001b[1;32m----> 1\u001b[1;33m \u001b[0mcv\u001b[0m\u001b[1;33m.\u001b[0m\u001b[0mShowImage\u001b[0m\u001b[1;33m(\u001b[0m\u001b[1;34m'Analyzed Frame'\u001b[0m\u001b[1;33m,\u001b[0m \u001b[0mori_frame\u001b[0m\u001b[1;33m)\u001b[0m\u001b[1;33m\u001b[0m\u001b[0m\n\u001b[0m",
        "\u001b[1;31mNameError\u001b[0m: name 'ori_frame' is not defined"
       ]
      }
     ],
     "prompt_number": 8
    },
    {
     "cell_type": "code",
     "collapsed": false,
     "input": [],
     "language": "python",
     "metadata": {},
     "outputs": []
    }
   ],
   "metadata": {}
  }
 ]
}